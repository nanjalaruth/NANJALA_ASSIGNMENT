{
 "cells": [
  {
   "cell_type": "markdown",
   "metadata": {},
   "source": [
    "### Exercise 1; Calculate the %GC and %AT content in the trna sequence**"
   ]
  },
  {
   "cell_type": "code",
   "execution_count": 18,
   "metadata": {},
   "outputs": [],
   "source": [
    "trna='AAGGGCTTAGCTTAATTAAAGTGGCTGATTTGCGTTCAGTTGATGCAGAGTGGGGTTTTGCAGTCCTTA'\n",
    "def percentageGC(x):\n",
    "    return (x.count('G')+x.count('C'))/len(x)*100\n",
    "def percentageAT(x):\n",
    "    return (x.count('A')+x.count('T'))/len(x)*100"
   ]
  },
  {
   "cell_type": "code",
   "execution_count": 21,
   "metadata": {},
   "outputs": [
    {
     "data": {
      "text/plain": [
       "43.47826086956522"
      ]
     },
     "execution_count": 21,
     "metadata": {},
     "output_type": "execute_result"
    }
   ],
   "source": [
    "percentageGC(trna)"
   ]
  },
  {
   "cell_type": "code",
   "execution_count": 22,
   "metadata": {},
   "outputs": [
    {
     "data": {
      "text/plain": [
       "56.52173913043478"
      ]
     },
     "execution_count": 22,
     "metadata": {},
     "output_type": "execute_result"
    }
   ],
   "source": [
    "percentageAT(trna)"
   ]
  },
  {
   "cell_type": "markdown",
   "metadata": {},
   "source": [
    "### Exercise2; Find the first, last and 5th amino acids in the sequence**"
   ]
  },
  {
   "cell_type": "code",
   "execution_count": 3,
   "metadata": {},
   "outputs": [],
   "source": [
    "aa='MNKMDLVADVAEKTDLSKAKATEVIDAVFA'"
   ]
  },
  {
   "cell_type": "code",
   "execution_count": 4,
   "metadata": {},
   "outputs": [],
   "source": [
    "def aminoacidposition(x): \n",
    "    print(\"the first amino acid is %s\" %x[0])\n",
    "    print(\"the last amino acid is %s\" %x[-1])\n",
    "    print(\"the fifth amino acid is %s\" %x[4])"
   ]
  },
  {
   "cell_type": "code",
   "execution_count": 5,
   "metadata": {},
   "outputs": [
    {
     "name": "stdout",
     "output_type": "stream",
     "text": [
      "the first amino acid is M\n",
      "the last amino acid is A\n",
      "the fifth amino acid is D\n"
     ]
    }
   ],
   "source": [
    "aminoacidposition(aa)"
   ]
  },
  {
   "cell_type": "markdown",
   "metadata": {},
   "source": [
    "**find the first restriction site in the following sequence: y ='TCCGGA'**"
   ]
  },
  {
   "cell_type": "code",
   "execution_count": 6,
   "metadata": {},
   "outputs": [],
   "source": [
    "dna='AAAAATCCCGAGGCGGCTATATAGGGCTCCGGAGGCGTAATATAAAA'"
   ]
  },
  {
   "cell_type": "code",
   "execution_count": 7,
   "metadata": {
    "jupyter": {
     "source_hidden": true
    }
   },
   "outputs": [],
   "source": [
    "def restrictionsite(x):\n",
    "    print(\"the first restriction site 'TCCGGA' is at index %s\" %x.find('TCCGGA'))"
   ]
  },
  {
   "cell_type": "code",
   "execution_count": 9,
   "metadata": {},
   "outputs": [
    {
     "name": "stdout",
     "output_type": "stream",
     "text": [
      "the first restriction site 'TCCGGA' is at index 27\n"
     ]
    }
   ],
   "source": [
    "restrictionsite(dna)"
   ]
  },
  {
   "cell_type": "markdown",
   "metadata": {},
   "source": [
    "### Exercise 3; using strings, lists, tuples and dictionaries, find the reverse complement of AAAAATCCCGAGGCGGCTATATAGGGCTCCGGAGGCGTAATATAAAA"
   ]
  },
  {
   "cell_type": "code",
   "execution_count": 10,
   "metadata": {},
   "outputs": [],
   "source": [
    "dna = 'AAAAATCCCGAGGCGGCTATATAGGGCTCCGGAGGCGTAATATAAAA'"
   ]
  },
  {
   "cell_type": "code",
   "execution_count": 11,
   "metadata": {},
   "outputs": [],
   "source": [
    "def reverse_complement(seq):\n",
    "    reverse= seq[::-1]\n",
    "    complement = ({'A':\"T\",'T':\"A\",'C':\"G\",'G':\"C\"})\n",
    "    return ''.join(complement[x]for x in seq)\n",
    "    "
   ]
  },
  {
   "cell_type": "code",
   "execution_count": 12,
   "metadata": {},
   "outputs": [
    {
     "data": {
      "text/plain": [
       "'TTTTTAGGGCTCCGCCGATATATCCCGAGGCCTCCGCATTATATTTT'"
      ]
     },
     "execution_count": 12,
     "metadata": {},
     "output_type": "execute_result"
    }
   ],
   "source": [
    "reverse_complement(dna)"
   ]
  },
  {
   "cell_type": "markdown",
   "metadata": {},
   "source": [
    "### Exercise 4; expand the script to manage ATM deposits**"
   ]
  },
  {
   "cell_type": "code",
   "execution_count": 6,
   "metadata": {},
   "outputs": [],
   "source": [
    "def AtmTransactions():\n",
    "    acountbal = 50000\n",
    "    choice = input(\"Please enter 'b' to check balance, 'd' to deposit, 'w' to withdraw or 'q' to quit: \")\n",
    "    while choice != 'q':\n",
    "        if choice.lower() in ('w','d','b'):\n",
    "            if choice.lower() == 'b':\n",
    "                print(\"Your balance is: %d\" % acountbal)\n",
    "                print(\"Anything else?\")\n",
    "                choice = input(\"Enter b for balance, w to withdraw, d to deposit or q to quit: \")\n",
    "                print(choice.lower())\n",
    "            elif choice.lower() == 'd':\n",
    "                deposit = float(input(\"Enter amount to deposit:\"))\n",
    "                acountbal = acountbal + deposit\n",
    "                print(\"Anything else?\")\n",
    "                choice = input(\"Enter b for balance, w to withdraw, d to deposit or q to quit: \")\n",
    "                print(choice.lower())\n",
    "            else:\n",
    "                withdraw = float(input(\"Enter amount to withdraw: \"))\n",
    "                if withdraw <= acountbal:\n",
    "                    print(\"here is your: %.2f\" % withdraw)\n",
    "                    acountbal = acountbal - withdraw\n",
    "                    print(\"Anything else?\")\n",
    "                    choice = input(\"Enter b for balance, w to withdraw, d to deposit or q to quit: \")\n",
    "                else:\n",
    "                    print(\"You have insufficient funds: %.2f\" % acountbal)\n",
    "        else:\n",
    "            print(\"Wrong choice!\")\n",
    "            choice = input(\"Please enter 'b' to check balance, 'd' to deposit or 'w' to withdraw: \")"
   ]
  },
  {
   "cell_type": "code",
   "execution_count": 7,
   "metadata": {},
   "outputs": [
    {
     "name": "stdin",
     "output_type": "stream",
     "text": [
      "Please enter 'b' to check balance, 'd' to deposit, 'w' to withdraw or 'q' to quit:  b\n"
     ]
    },
    {
     "name": "stdout",
     "output_type": "stream",
     "text": [
      "Your balance is: 50000\n",
      "Anything else?\n"
     ]
    },
    {
     "name": "stdin",
     "output_type": "stream",
     "text": [
      "Enter b for balance, w to withdraw, d to deposit or q to quit:  w\n"
     ]
    },
    {
     "name": "stdout",
     "output_type": "stream",
     "text": [
      "w\n"
     ]
    },
    {
     "name": "stdin",
     "output_type": "stream",
     "text": [
      "Enter amount to withdraw:  10000\n"
     ]
    },
    {
     "name": "stdout",
     "output_type": "stream",
     "text": [
      "here is your: 10000.00\n",
      "Anything else?\n"
     ]
    },
    {
     "name": "stdin",
     "output_type": "stream",
     "text": [
      "Enter b for balance, w to withdraw, d to deposit or q to quit:  b\n"
     ]
    },
    {
     "name": "stdout",
     "output_type": "stream",
     "text": [
      "Your balance is: 40000\n",
      "Anything else?\n"
     ]
    },
    {
     "name": "stdin",
     "output_type": "stream",
     "text": [
      "Enter b for balance, w to withdraw, d to deposit or q to quit:  d\n"
     ]
    },
    {
     "name": "stdout",
     "output_type": "stream",
     "text": [
      "d\n"
     ]
    },
    {
     "name": "stdin",
     "output_type": "stream",
     "text": [
      "Enter amount to deposit: 5000\n"
     ]
    },
    {
     "name": "stdout",
     "output_type": "stream",
     "text": [
      "Anything else?\n"
     ]
    },
    {
     "name": "stdin",
     "output_type": "stream",
     "text": [
      "Enter b for balance, w to withdraw, d to deposit or q to quit:  b\n"
     ]
    },
    {
     "name": "stdout",
     "output_type": "stream",
     "text": [
      "b\n",
      "Your balance is: 45000\n",
      "Anything else?\n"
     ]
    },
    {
     "name": "stdin",
     "output_type": "stream",
     "text": [
      "Enter b for balance, w to withdraw, d to deposit or q to quit:  w\n"
     ]
    },
    {
     "name": "stdout",
     "output_type": "stream",
     "text": [
      "w\n"
     ]
    },
    {
     "name": "stdin",
     "output_type": "stream",
     "text": [
      "Enter amount to withdraw:  20000\n"
     ]
    },
    {
     "name": "stdout",
     "output_type": "stream",
     "text": [
      "here is your: 20000.00\n",
      "Anything else?\n"
     ]
    },
    {
     "name": "stdin",
     "output_type": "stream",
     "text": [
      "Enter b for balance, w to withdraw, d to deposit or q to quit:  b\n"
     ]
    },
    {
     "name": "stdout",
     "output_type": "stream",
     "text": [
      "Your balance is: 25000\n",
      "Anything else?\n"
     ]
    },
    {
     "name": "stdin",
     "output_type": "stream",
     "text": [
      "Enter b for balance, w to withdraw, d to deposit or q to quit:  d\n"
     ]
    },
    {
     "name": "stdout",
     "output_type": "stream",
     "text": [
      "d\n"
     ]
    },
    {
     "name": "stdin",
     "output_type": "stream",
     "text": [
      "Enter amount to deposit: 400\n"
     ]
    },
    {
     "name": "stdout",
     "output_type": "stream",
     "text": [
      "Anything else?\n"
     ]
    },
    {
     "name": "stdin",
     "output_type": "stream",
     "text": [
      "Enter b for balance, w to withdraw, d to deposit or q to quit:  b\n"
     ]
    },
    {
     "name": "stdout",
     "output_type": "stream",
     "text": [
      "b\n",
      "Your balance is: 25400\n",
      "Anything else?\n"
     ]
    },
    {
     "name": "stdin",
     "output_type": "stream",
     "text": [
      "Enter b for balance, w to withdraw, d to deposit or q to quit:  q\n"
     ]
    },
    {
     "name": "stdout",
     "output_type": "stream",
     "text": [
      "q\n"
     ]
    }
   ],
   "source": [
    "AtmTransactions()"
   ]
  },
  {
   "cell_type": "markdown",
   "metadata": {},
   "source": [
    "### Exercise5:\n",
    "Create a while loop that starts with x=0 and increments x until x is equal to 5. Each iteration should print to the console**"
   ]
  },
  {
   "cell_type": "code",
   "execution_count": 10,
   "metadata": {},
   "outputs": [],
   "source": [
    "def y():  \n",
    "    x=0\n",
    "    while x<=5:\n",
    "        print(x)\n",
    "        x+=1"
   ]
  },
  {
   "cell_type": "code",
   "execution_count": 11,
   "metadata": {},
   "outputs": [
    {
     "name": "stdout",
     "output_type": "stream",
     "text": [
      "0\n",
      "1\n",
      "2\n",
      "3\n",
      "4\n",
      "5\n"
     ]
    }
   ],
   "source": [
    "y()"
   ]
  },
  {
   "cell_type": "markdown",
   "metadata": {},
   "source": [
    "**Repeat the previous problem, but the loop will skip printing x = 5 to the console but will print values of x from 6 to 10**"
   ]
  },
  {
   "cell_type": "code",
   "execution_count": 19,
   "metadata": {},
   "outputs": [],
   "source": [
    "def y():\n",
    "    x=0\n",
    "    while x<=10:\n",
    "        if x!=5:\n",
    "            print(x)\n",
    "        x+=1"
   ]
  },
  {
   "cell_type": "code",
   "execution_count": 20,
   "metadata": {},
   "outputs": [
    {
     "name": "stdout",
     "output_type": "stream",
     "text": [
      "0\n",
      "1\n",
      "2\n",
      "3\n",
      "4\n",
      "6\n",
      "7\n",
      "8\n",
      "9\n",
      "10\n"
     ]
    }
   ],
   "source": [
    "y()"
   ]
  },
  {
   "cell_type": "markdown",
   "metadata": {},
   "source": [
    "**create a for loop that prints values from 4 to 10 to the console.**"
   ]
  },
  {
   "cell_type": "code",
   "execution_count": 62,
   "metadata": {},
   "outputs": [],
   "source": [
    " def z():   \n",
    "    for x in range (11):\n",
    "        if x>3:\n",
    "            print(x)"
   ]
  },
  {
   "cell_type": "code",
   "execution_count": 63,
   "metadata": {},
   "outputs": [
    {
     "name": "stdout",
     "output_type": "stream",
     "text": [
      "4\n",
      "5\n",
      "6\n",
      "7\n",
      "8\n",
      "9\n",
      "10\n"
     ]
    }
   ],
   "source": [
    "z()"
   ]
  },
  {
   "cell_type": "markdown",
   "metadata": {},
   "source": [
    "### Exercise6: \n",
    "Write a function percentageGC that calculates the GC content of a DNA sequence. The function should return the %GC content. The Function should return a message if the provided sequence is not DNA (This should be checked by a different function, called by your function)**"
   ]
  },
  {
   "cell_type": "code",
   "execution_count": 22,
   "metadata": {},
   "outputs": [],
   "source": [
    "mydna = \"CAGTGATGATGACGAT\"\n",
    "yourdna = \"ACGATCGAGACGTAGTA\"\n",
    "testdna = \"ATFRACGATTGHAHYAK\""
   ]
  },
  {
   "cell_type": "code",
   "execution_count": 28,
   "metadata": {},
   "outputs": [],
   "source": [
    "def percentageGC(x):\n",
    "    return (x.count('G')+x.count('C'))/len(x)*100"
   ]
  },
  {
   "cell_type": "code",
   "execution_count": 29,
   "metadata": {},
   "outputs": [],
   "source": [
    "def isvalidDNA(s):\n",
    "    valid_bases=list('ACTG')\n",
    "    valid = True\n",
    "    for base in s:\n",
    "        if base in valid_bases:\n",
    "            continue\n",
    "        else:\n",
    "            valid = False\n",
    "            print(\"There is an invalid base %s at position %d\" % (base,s.find(base)))     \n",
    "    return(valid)"
   ]
  },
  {
   "cell_type": "code",
   "execution_count": 27,
   "metadata": {},
   "outputs": [
    {
     "name": "stdout",
     "output_type": "stream",
     "text": [
      "There is an invalid base F at position 2\n",
      "There is an invalid base R at position 3\n",
      "There is an invalid base H at position 11\n",
      "There is an invalid base H at position 11\n",
      "There is an invalid base Y at position 14\n",
      "There is an invalid base K at position 16\n",
      "Enter valid DNA sequence\n"
     ]
    }
   ],
   "source": [
    "if isvalidDNA(testdna)==True:\n",
    "    print(percentageGC(testdna))\n",
    "else:\n",
    "    print(\"Enter valid DNA sequence\")"
   ]
  },
  {
   "cell_type": "code",
   "execution_count": 30,
   "metadata": {},
   "outputs": [
    {
     "name": "stdout",
     "output_type": "stream",
     "text": [
      "43.75\n"
     ]
    }
   ],
   "source": [
    "if isvalidDNA(mydna)==True:\n",
    "    print(percentageGC(mydna))\n",
    "else:\n",
    "    print(\"Enter valid DNA sequence\")"
   ]
  },
  {
   "cell_type": "code",
   "execution_count": 31,
   "metadata": {},
   "outputs": [
    {
     "name": "stdout",
     "output_type": "stream",
     "text": [
      "47.05882352941176\n"
     ]
    }
   ],
   "source": [
    "if isvalidDNA(yourdna)==True:\n",
    "    print(percentageGC(yourdna))\n",
    "else:\n",
    "    print(\"Enter valid DNA sequence\")"
   ]
  },
  {
   "cell_type": "markdown",
   "metadata": {},
   "source": [
    "### Exercise 7\n",
    "Write a function that reads the file (humchrx.txt)and writes to another file (gene_names.txt a clean list of gene names)**"
   ]
  },
  {
   "cell_type": "code",
   "execution_count": 1,
   "metadata": {},
   "outputs": [
    {
     "name": "stdout",
     "output_type": "stream",
     "text": [
      "/home/nanje/EANBITCohort2/Programmingforbiologists/Python4Bioinformatics2019/Data\n"
     ]
    }
   ],
   "source": [
    "cd /home/nanje/EANBITCohort2/Programmingforbiologists/Python4Bioinformatics2019/Data"
   ]
  },
  {
   "cell_type": "code",
   "execution_count": 2,
   "metadata": {},
   "outputs": [
    {
     "name": "stdout",
     "output_type": "stream",
     "text": [
      "Salinispora_tropica_CNB_440.gbk  dna.fa          humchr.txt\n",
      "Streptomyces_coelicolor.fa       example.fasta   test.txt\n",
      "Streptomyces_coelicolor.gbk      gene_names.txt\n"
     ]
    }
   ],
   "source": [
    "ls"
   ]
  },
  {
   "cell_type": "code",
   "execution_count": 3,
   "metadata": {},
   "outputs": [],
   "source": [
    "humchrx = open('../Data/humchr.txt','r')"
   ]
  },
  {
   "cell_type": "code",
   "execution_count": 1,
   "metadata": {},
   "outputs": [],
   "source": [
    "def getGenelist():\n",
    "    with open('../Data/humchr.txt','r')as humchr:\n",
    "        tag = False\n",
    "        gene_list = []\n",
    "        for line in humchr:\n",
    "            if line.startswith('Gene'):\n",
    "                tag = True\n",
    "            if tag:\n",
    "                line_split = line.split()\n",
    "                if len(line_split)!=0:\n",
    "                    if '-'in line_split[0]:\n",
    "                        continue\n",
    "                    else:\n",
    "                        gene_list.append(line_split[0])\n",
    "        return gene_list[3:][:-2]"
   ]
  },
  {
   "cell_type": "code",
   "execution_count": 2,
   "metadata": {},
   "outputs": [],
   "source": [
    "clean_gene_list = getGenelist()"
   ]
  },
  {
   "cell_type": "code",
   "execution_count": null,
   "metadata": {},
   "outputs": [],
   "source": [
    "clean_gene_list"
   ]
  },
  {
   "cell_type": "code",
   "execution_count": 12,
   "metadata": {},
   "outputs": [],
   "source": [
    "def writeGenelist(clean_gene_list):\n",
    "    with open('../Data/gene_names.txt','w')as gene_names:\n",
    "        for gene in clean_gene_list:\n",
    "            gene_names.writelines(gene +'\\n')\n",
    "    print('Genes have been written successfully')"
   ]
  },
  {
   "cell_type": "code",
   "execution_count": 13,
   "metadata": {},
   "outputs": [
    {
     "name": "stdout",
     "output_type": "stream",
     "text": [
      "Genes have been written successfully\n"
     ]
    }
   ],
   "source": [
    "writeGenelist(clean_gene_list)"
   ]
  },
  {
   "cell_type": "markdown",
   "metadata": {},
   "source": [
    "### Exercise 8\n",
    "\n",
    "**Convert the function you wrote in exercise 1 into a python module. Then, import the module and use the function to read humchrx.txt file and create a gene list file.\n",
    "Create a stand-alone script that does all the above**"
   ]
  },
  {
   "cell_type": "markdown",
   "metadata": {},
   "source": [
    "### Exercise 9\n",
    "\n",
    "**1. Using the same concept, convert your script in exercise 7 to take command line arguments (input and output files)**"
   ]
  },
  {
   "cell_type": "markdown",
   "metadata": {},
   "source": [
    "### Exercise 10"
   ]
  },
  {
   "cell_type": "markdown",
   "metadata": {},
   "source": [
    "**1.Using a DNA sequence read from file, answer the following questions:**"
   ]
  },
  {
   "cell_type": "markdown",
   "metadata": {},
   "source": [
    " **a. Show that the DNA string contains only four letters.**\n",
    "   "
   ]
  },
  {
   "cell_type": "code",
   "execution_count": 21,
   "metadata": {},
   "outputs": [],
   "source": [
    "def DNA():\n",
    "    dna = list('GACGATATGAAAAAAAAAACGACGAAAAATGAATA')\n",
    "    return(len(set('GACGATATGAAAAAAAAAACGACGAAAAATGAATA')))"
   ]
  },
  {
   "cell_type": "code",
   "execution_count": 22,
   "metadata": {},
   "outputs": [
    {
     "data": {
      "text/plain": [
       "4"
      ]
     },
     "execution_count": 22,
     "metadata": {},
     "output_type": "execute_result"
    }
   ],
   "source": [
    "DNA()"
   ]
  },
  {
   "cell_type": "markdown",
   "metadata": {},
   "source": [
    " **b. In the DNA string there are regions that have a repeating letter. What is the letter and length of the longest repeating region?**"
   ]
  },
  {
   "cell_type": "code",
   "execution_count": 9,
   "metadata": {},
   "outputs": [],
   "source": [
    " def longestrepeatingregion():   \n",
    "    dna_dict = {'A':0,'C':0, 'G':0, 'T':0}\n",
    "    for dna in 'GACGATATGAAAAAAAAAACGACGAAAAATGAATA':\n",
    "        dna_dict [dna] = dna_dict[dna]+1\n",
    "\n",
    "    A_list = []\n",
    "    tag = False\n",
    "    As = []\n",
    "    for dna in 'GACGATATGAAAAAAAAAACGACGAAAAATGAATA':\n",
    "        if dna =='A':\n",
    "            tag = True\n",
    "            As.append(dna)\n",
    "        else:\n",
    "            if len(As)>1:\n",
    "                A_list.append(As)\n",
    "            As = []\n",
    "            tag = False\n",
    "\n",
    "    len_list = [len(x) for x in A_list]\n",
    "\n",
    "    long_index = len_list.index(max(len_list))\n",
    "\n",
    "    return(print(\"%s is the longest repeating letter, repeats %d times\" % (A_list[long_index][0],len(A_list[long_index]))))"
   ]
  },
  {
   "cell_type": "code",
   "execution_count": 10,
   "metadata": {},
   "outputs": [
    {
     "name": "stdout",
     "output_type": "stream",
     "text": [
      "A is the longest repeating letter, repeats 10 times\n"
     ]
    }
   ],
   "source": [
    "longestrepeatingregion()"
   ]
  },
  {
   "cell_type": "markdown",
   "metadata": {},
   "source": [
    "**c. How many ’ATG’s are in the DNA string?**"
   ]
  },
  {
   "cell_type": "code",
   "execution_count": 11,
   "metadata": {},
   "outputs": [],
   "source": [
    "dna = 'GACGATATGAAAAAAAAAACGACGAAAAATGAATA'\n",
    "def ATGcount(x):\n",
    "    step = 0\n",
    "    dna_list = []\n",
    "    while step <= len(dna)-3:\n",
    "        dna_list.append(dna[step:step+3])\n",
    "        step = step +1 \n",
    "    return(dna_list.count('ATG'))"
   ]
  },
  {
   "cell_type": "code",
   "execution_count": 12,
   "metadata": {},
   "outputs": [
    {
     "data": {
      "text/plain": [
       "2"
      ]
     },
     "execution_count": 12,
     "metadata": {},
     "output_type": "execute_result"
    }
   ],
   "source": [
    "ATGcount(dna)"
   ]
  },
  {
   "cell_type": "markdown",
   "metadata": {},
   "source": [
    "### Exercise 11"
   ]
  },
  {
   "cell_type": "markdown",
   "metadata": {},
   "source": [
    "**4. Solve the pattern matching problem with text = GACGATATGAAAAAAAAAACGACGAAAAATGA and pattern = 'ATA' to find all starting positions of pattern in text. Return the starting position in increasing order(make sure to use 0 based index)**"
   ]
  },
  {
   "cell_type": "code",
   "execution_count": 13,
   "metadata": {},
   "outputs": [],
   "source": [
    "dna = 'GACGATATGAAAAAAAAAACGACGAAAAATGAATA'\n",
    "def getkmers(dna,k):\n",
    "    step = 0\n",
    "    dna_list = []\n",
    "    while step <= len(dna)-k:\n",
    "        dna_list.append(dna[step:step+k])\n",
    "        step = step +1\n",
    "        \n",
    "    for i, dna in enumerate(dna_list):\n",
    "        if dna =='ATA':\n",
    "            print(dna,i)\n",
    "            \n",
    "    return dna_list"
   ]
  },
  {
   "cell_type": "code",
   "execution_count": 14,
   "metadata": {},
   "outputs": [
    {
     "name": "stdout",
     "output_type": "stream",
     "text": [
      "ATA 4\n",
      "ATA 32\n"
     ]
    },
    {
     "data": {
      "text/plain": [
       "['GAC',\n",
       " 'ACG',\n",
       " 'CGA',\n",
       " 'GAT',\n",
       " 'ATA',\n",
       " 'TAT',\n",
       " 'ATG',\n",
       " 'TGA',\n",
       " 'GAA',\n",
       " 'AAA',\n",
       " 'AAA',\n",
       " 'AAA',\n",
       " 'AAA',\n",
       " 'AAA',\n",
       " 'AAA',\n",
       " 'AAA',\n",
       " 'AAA',\n",
       " 'AAC',\n",
       " 'ACG',\n",
       " 'CGA',\n",
       " 'GAC',\n",
       " 'ACG',\n",
       " 'CGA',\n",
       " 'GAA',\n",
       " 'AAA',\n",
       " 'AAA',\n",
       " 'AAA',\n",
       " 'AAT',\n",
       " 'ATG',\n",
       " 'TGA',\n",
       " 'GAA',\n",
       " 'AAT',\n",
       " 'ATA']"
      ]
     },
     "execution_count": 14,
     "metadata": {},
     "output_type": "execute_result"
    }
   ],
   "source": [
    "getkmers(dna,3)"
   ]
  },
  {
   "cell_type": "code",
   "execution_count": null,
   "metadata": {},
   "outputs": [],
   "source": []
  }
 ],
 "metadata": {
  "kernelspec": {
   "display_name": "Python 3",
   "language": "python",
   "name": "python3"
  },
  "language_info": {
   "codemirror_mode": {
    "name": "ipython",
    "version": 3
   },
   "file_extension": ".py",
   "mimetype": "text/x-python",
   "name": "python",
   "nbconvert_exporter": "python",
   "pygments_lexer": "ipython3",
   "version": "3.7.3"
  }
 },
 "nbformat": 4,
 "nbformat_minor": 4
}
